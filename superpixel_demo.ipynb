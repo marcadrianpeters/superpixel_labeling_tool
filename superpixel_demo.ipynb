{
 "cells": [
  {
   "cell_type": "markdown",
   "metadata": {},
   "source": [
    "### Batch Superpixel Segmentation on Multiple Datasets\n",
    "\n",
    "This cell configures and runs superpixel segmentation on multiple datasets.  \n",
    "For each dataset, it sets up input/output directories and segmentation parameters,  \n",
    "then processes the dataset in parallel using the specified number of worker processes.\n"
   ]
  },
  {
   "cell_type": "code",
   "execution_count": null,
   "metadata": {},
   "outputs": [],
   "source": [
    "from pathlib import Path\n",
    "from superpixel_segmentation import SegmenterConfig, process_dataset\n",
    "\n",
    "# List of dataset base directories to process\n",
    "base_dirs = [\n",
    "    Path(\"PATH/TO/YOUR/DATASET1\"),\n",
    "    Path(\"PATH/TO/YOUR/DATASET2\"),\n",
    "    Path(\"PATH/TO/YOUR/DATASET3\"),\n",
    "]\n",
    "\n",
    "for base_dir in base_dirs:\n",
    "    config = SegmenterConfig(\n",
    "        input_dir=base_dir / \"input\",\n",
    "        output_masks=base_dir / \"superpixel_masks\",\n",
    "        output_overlays=base_dir / \"superpixel_overlays\",\n",
    "\n",
    "        # Superpixel parameters\n",
    "        pixels_per_superpixel=150,\n",
    "\n",
    "        # Overlay parameters\n",
    "        overlay_alpha=0.7,\n",
    "        overlay_color=(128, 128, 128),\n",
    "\n",
    "        # Parallelism\n",
    "        num_workers=8,\n",
    "    )\n",
    "\n",
    "    process_dataset(config)"
   ]
  }
 ],
 "metadata": {
  "kernelspec": {
   "display_name": ".venv",
   "language": "python",
   "name": "python3"
  },
  "language_info": {
   "codemirror_mode": {
    "name": "ipython",
    "version": 3
   },
   "file_extension": ".py",
   "mimetype": "text/x-python",
   "name": "python",
   "nbconvert_exporter": "python",
   "pygments_lexer": "ipython3",
   "version": "3.12.11"
  }
 },
 "nbformat": 4,
 "nbformat_minor": 2
}
